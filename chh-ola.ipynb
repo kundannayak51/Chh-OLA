{
 "cells": [
  {
   "cell_type": "code",
   "execution_count": 1,
   "metadata": {},
   "outputs": [],
   "source": [
    "#importing the required packages\n",
    "import pandas as pd\n",
    "import matplotlib.pyplot as plt\n",
    "import seaborn as sns\n",
    "import re\n",
    "import numpy as np\n",
    "from sklearn import tree\n",
    "from sklearn.model_selection import train_test_split\n",
    "from sklearn.linear_model import LogisticRegression\n",
    "from sklearn.model_selection import GridSearchCV"
   ]
  },
  {
   "cell_type": "code",
   "execution_count": 2,
   "metadata": {
    "scrolled": false
   },
   "outputs": [],
   "source": [
    "a=pd.read_csv('train.csv') # 'a' is the training set's dataframe"
   ]
  },
  {
   "cell_type": "code",
   "execution_count": 3,
   "metadata": {},
   "outputs": [
    {
     "data": {
      "text/html": [
       "<div>\n",
       "<style scoped>\n",
       "    .dataframe tbody tr th:only-of-type {\n",
       "        vertical-align: middle;\n",
       "    }\n",
       "\n",
       "    .dataframe tbody tr th {\n",
       "        vertical-align: top;\n",
       "    }\n",
       "\n",
       "    .dataframe thead th {\n",
       "        text-align: right;\n",
       "    }\n",
       "</style>\n",
       "<table border=\"1\" class=\"dataframe\">\n",
       "  <thead>\n",
       "    <tr style=\"text-align: right;\">\n",
       "      <th></th>\n",
       "      <th>ID</th>\n",
       "      <th>vendor+AF8-id</th>\n",
       "      <th>pickup+AF8-loc</th>\n",
       "      <th>drop+AF8-loc</th>\n",
       "      <th>driver+AF8-tip</th>\n",
       "      <th>mta+AF8-tax</th>\n",
       "      <th>distance</th>\n",
       "      <th>pickuptime</th>\n",
       "      <th>droptime</th>\n",
       "      <th>num+AF8-passengers</th>\n",
       "      <th>toll+AF8-amount</th>\n",
       "      <th>payment+AF8-method</th>\n",
       "      <th>rate+AF8-code</th>\n",
       "      <th>extra+AF8-charges</th>\n",
       "      <th>improvement+AF8-charge</th>\n",
       "      <th>total+AF8-amount</th>\n",
       "      <th>stored+AF8-flag_Y</th>\n",
       "    </tr>\n",
       "  </thead>\n",
       "  <tbody>\n",
       "    <tr>\n",
       "      <th>0</th>\n",
       "      <td>0</td>\n",
       "      <td>1</td>\n",
       "      <td>170</td>\n",
       "      <td>233</td>\n",
       "      <td>1.83</td>\n",
       "      <td>0.5</td>\n",
       "      <td>0.70</td>\n",
       "      <td>04/04/2017 05:59:43 PM</td>\n",
       "      <td>04/04/2017 06:05:04 PM</td>\n",
       "      <td>1</td>\n",
       "      <td>0.0</td>\n",
       "      <td>1</td>\n",
       "      <td>1</td>\n",
       "      <td>1.0</td>\n",
       "      <td>0.3</td>\n",
       "      <td>9.13</td>\n",
       "      <td>0</td>\n",
       "    </tr>\n",
       "    <tr>\n",
       "      <th>1</th>\n",
       "      <td>1</td>\n",
       "      <td>2</td>\n",
       "      <td>151</td>\n",
       "      <td>243</td>\n",
       "      <td>3.56</td>\n",
       "      <td>0.5</td>\n",
       "      <td>4.64</td>\n",
       "      <td>04/03/2017 07:03:34 PM</td>\n",
       "      <td>04/03/2017 07:20:04 PM</td>\n",
       "      <td>1</td>\n",
       "      <td>0.0</td>\n",
       "      <td>1</td>\n",
       "      <td>1</td>\n",
       "      <td>1.0</td>\n",
       "      <td>0.3</td>\n",
       "      <td>21.36</td>\n",
       "      <td>0</td>\n",
       "    </tr>\n",
       "    <tr>\n",
       "      <th>2</th>\n",
       "      <td>2</td>\n",
       "      <td>2</td>\n",
       "      <td>68</td>\n",
       "      <td>90</td>\n",
       "      <td>1.50</td>\n",
       "      <td>0.5</td>\n",
       "      <td>1.29</td>\n",
       "      <td>04/03/2017 03:06:13 PM</td>\n",
       "      <td>04/03/2017 03:12:30 PM</td>\n",
       "      <td>2</td>\n",
       "      <td>0.0</td>\n",
       "      <td>1</td>\n",
       "      <td>1</td>\n",
       "      <td>0.0</td>\n",
       "      <td>0.3</td>\n",
       "      <td>8.80</td>\n",
       "      <td>0</td>\n",
       "    </tr>\n",
       "    <tr>\n",
       "      <th>3</th>\n",
       "      <td>3</td>\n",
       "      <td>2</td>\n",
       "      <td>142</td>\n",
       "      <td>234</td>\n",
       "      <td>1.50</td>\n",
       "      <td>0.5</td>\n",
       "      <td>2.74</td>\n",
       "      <td>04/04/2017 08:10:52 AM</td>\n",
       "      <td>04/04/2017 08:27:00 AM</td>\n",
       "      <td>1</td>\n",
       "      <td>0.0</td>\n",
       "      <td>1</td>\n",
       "      <td>1</td>\n",
       "      <td>0.0</td>\n",
       "      <td>0.3</td>\n",
       "      <td>14.80</td>\n",
       "      <td>0</td>\n",
       "    </tr>\n",
       "    <tr>\n",
       "      <th>4</th>\n",
       "      <td>4</td>\n",
       "      <td>2</td>\n",
       "      <td>238</td>\n",
       "      <td>238</td>\n",
       "      <td>0.00</td>\n",
       "      <td>0.5</td>\n",
       "      <td>0.45</td>\n",
       "      <td>04/05/2017 02:02:59 PM</td>\n",
       "      <td>04/05/2017 02:05:41 PM</td>\n",
       "      <td>6</td>\n",
       "      <td>0.0</td>\n",
       "      <td>2</td>\n",
       "      <td>1</td>\n",
       "      <td>0.0</td>\n",
       "      <td>0.3</td>\n",
       "      <td>4.80</td>\n",
       "      <td>0</td>\n",
       "    </tr>\n",
       "  </tbody>\n",
       "</table>\n",
       "</div>"
      ],
      "text/plain": [
       "   ID  vendor+AF8-id  pickup+AF8-loc  drop+AF8-loc  driver+AF8-tip  \\\n",
       "0   0              1             170           233            1.83   \n",
       "1   1              2             151           243            3.56   \n",
       "2   2              2              68            90            1.50   \n",
       "3   3              2             142           234            1.50   \n",
       "4   4              2             238           238            0.00   \n",
       "\n",
       "   mta+AF8-tax  distance              pickuptime                droptime  \\\n",
       "0          0.5      0.70  04/04/2017 05:59:43 PM  04/04/2017 06:05:04 PM   \n",
       "1          0.5      4.64  04/03/2017 07:03:34 PM  04/03/2017 07:20:04 PM   \n",
       "2          0.5      1.29  04/03/2017 03:06:13 PM  04/03/2017 03:12:30 PM   \n",
       "3          0.5      2.74  04/04/2017 08:10:52 AM  04/04/2017 08:27:00 AM   \n",
       "4          0.5      0.45  04/05/2017 02:02:59 PM  04/05/2017 02:05:41 PM   \n",
       "\n",
       "   num+AF8-passengers  toll+AF8-amount  payment+AF8-method  rate+AF8-code  \\\n",
       "0                   1              0.0                   1              1   \n",
       "1                   1              0.0                   1              1   \n",
       "2                   2              0.0                   1              1   \n",
       "3                   1              0.0                   1              1   \n",
       "4                   6              0.0                   2              1   \n",
       "\n",
       "   extra+AF8-charges  improvement+AF8-charge  total+AF8-amount  \\\n",
       "0                1.0                     0.3              9.13   \n",
       "1                1.0                     0.3             21.36   \n",
       "2                0.0                     0.3              8.80   \n",
       "3                0.0                     0.3             14.80   \n",
       "4                0.0                     0.3              4.80   \n",
       "\n",
       "   stored+AF8-flag_Y  \n",
       "0                  0  \n",
       "1                  0  \n",
       "2                  0  \n",
       "3                  0  \n",
       "4                  0  "
      ]
     },
     "execution_count": 3,
     "metadata": {},
     "output_type": "execute_result"
    }
   ],
   "source": [
    "a = pd.get_dummies(a, columns=['stored+AF8-flag'], drop_first=True) #Changed the stored flag value from Y and N to 1 and 0\n",
    "a.rename(columns={'pickup+AF8-time':'pickuptime'},inplace=True)\n",
    "a.rename(columns={'drop+AF8-time':'droptime'},inplace=True)\n",
    "a.head()"
   ]
  },
  {
   "cell_type": "code",
   "execution_count": 4,
   "metadata": {},
   "outputs": [],
   "source": [
    "a['pickuptime'] = pd.to_datetime(a.pickuptime) #processing the  object type data to datetime for easier calculation\n",
    "\n"
   ]
  },
  {
   "cell_type": "code",
   "execution_count": 5,
   "metadata": {},
   "outputs": [],
   "source": [
    "a['droptime'] = pd.to_datetime(a.droptime) #\n",
    "\n",
    "\n"
   ]
  },
  {
   "cell_type": "code",
   "execution_count": 6,
   "metadata": {},
   "outputs": [
    {
     "data": {
      "text/html": [
       "<div>\n",
       "<style scoped>\n",
       "    .dataframe tbody tr th:only-of-type {\n",
       "        vertical-align: middle;\n",
       "    }\n",
       "\n",
       "    .dataframe tbody tr th {\n",
       "        vertical-align: top;\n",
       "    }\n",
       "\n",
       "    .dataframe thead th {\n",
       "        text-align: right;\n",
       "    }\n",
       "</style>\n",
       "<table border=\"1\" class=\"dataframe\">\n",
       "  <thead>\n",
       "    <tr style=\"text-align: right;\">\n",
       "      <th></th>\n",
       "      <th>ID</th>\n",
       "      <th>vendor+AF8-id</th>\n",
       "      <th>pickup+AF8-loc</th>\n",
       "      <th>drop+AF8-loc</th>\n",
       "      <th>driver+AF8-tip</th>\n",
       "      <th>mta+AF8-tax</th>\n",
       "      <th>distance</th>\n",
       "      <th>num+AF8-passengers</th>\n",
       "      <th>toll+AF8-amount</th>\n",
       "      <th>payment+AF8-method</th>\n",
       "      <th>rate+AF8-code</th>\n",
       "      <th>extra+AF8-charges</th>\n",
       "      <th>improvement+AF8-charge</th>\n",
       "      <th>total+AF8-amount</th>\n",
       "      <th>stored+AF8-flag_Y</th>\n",
       "    </tr>\n",
       "  </thead>\n",
       "  <tbody>\n",
       "    <tr>\n",
       "      <th>0</th>\n",
       "      <td>0</td>\n",
       "      <td>1</td>\n",
       "      <td>170</td>\n",
       "      <td>233</td>\n",
       "      <td>1.83</td>\n",
       "      <td>0.5</td>\n",
       "      <td>0.70</td>\n",
       "      <td>1</td>\n",
       "      <td>0.0</td>\n",
       "      <td>1</td>\n",
       "      <td>1</td>\n",
       "      <td>1.0</td>\n",
       "      <td>0.3</td>\n",
       "      <td>9.13</td>\n",
       "      <td>0</td>\n",
       "    </tr>\n",
       "    <tr>\n",
       "      <th>1</th>\n",
       "      <td>1</td>\n",
       "      <td>2</td>\n",
       "      <td>151</td>\n",
       "      <td>243</td>\n",
       "      <td>3.56</td>\n",
       "      <td>0.5</td>\n",
       "      <td>4.64</td>\n",
       "      <td>1</td>\n",
       "      <td>0.0</td>\n",
       "      <td>1</td>\n",
       "      <td>1</td>\n",
       "      <td>1.0</td>\n",
       "      <td>0.3</td>\n",
       "      <td>21.36</td>\n",
       "      <td>0</td>\n",
       "    </tr>\n",
       "    <tr>\n",
       "      <th>2</th>\n",
       "      <td>2</td>\n",
       "      <td>2</td>\n",
       "      <td>68</td>\n",
       "      <td>90</td>\n",
       "      <td>1.50</td>\n",
       "      <td>0.5</td>\n",
       "      <td>1.29</td>\n",
       "      <td>2</td>\n",
       "      <td>0.0</td>\n",
       "      <td>1</td>\n",
       "      <td>1</td>\n",
       "      <td>0.0</td>\n",
       "      <td>0.3</td>\n",
       "      <td>8.80</td>\n",
       "      <td>0</td>\n",
       "    </tr>\n",
       "    <tr>\n",
       "      <th>3</th>\n",
       "      <td>3</td>\n",
       "      <td>2</td>\n",
       "      <td>142</td>\n",
       "      <td>234</td>\n",
       "      <td>1.50</td>\n",
       "      <td>0.5</td>\n",
       "      <td>2.74</td>\n",
       "      <td>1</td>\n",
       "      <td>0.0</td>\n",
       "      <td>1</td>\n",
       "      <td>1</td>\n",
       "      <td>0.0</td>\n",
       "      <td>0.3</td>\n",
       "      <td>14.80</td>\n",
       "      <td>0</td>\n",
       "    </tr>\n",
       "    <tr>\n",
       "      <th>4</th>\n",
       "      <td>4</td>\n",
       "      <td>2</td>\n",
       "      <td>238</td>\n",
       "      <td>238</td>\n",
       "      <td>0.00</td>\n",
       "      <td>0.5</td>\n",
       "      <td>0.45</td>\n",
       "      <td>6</td>\n",
       "      <td>0.0</td>\n",
       "      <td>2</td>\n",
       "      <td>1</td>\n",
       "      <td>0.0</td>\n",
       "      <td>0.3</td>\n",
       "      <td>4.80</td>\n",
       "      <td>0</td>\n",
       "    </tr>\n",
       "  </tbody>\n",
       "</table>\n",
       "</div>"
      ],
      "text/plain": [
       "   ID  vendor+AF8-id  pickup+AF8-loc  drop+AF8-loc  driver+AF8-tip  \\\n",
       "0   0              1             170           233            1.83   \n",
       "1   1              2             151           243            3.56   \n",
       "2   2              2              68            90            1.50   \n",
       "3   3              2             142           234            1.50   \n",
       "4   4              2             238           238            0.00   \n",
       "\n",
       "   mta+AF8-tax  distance  num+AF8-passengers  toll+AF8-amount  \\\n",
       "0          0.5      0.70                   1              0.0   \n",
       "1          0.5      4.64                   1              0.0   \n",
       "2          0.5      1.29                   2              0.0   \n",
       "3          0.5      2.74                   1              0.0   \n",
       "4          0.5      0.45                   6              0.0   \n",
       "\n",
       "   payment+AF8-method  rate+AF8-code  extra+AF8-charges  \\\n",
       "0                   1              1                1.0   \n",
       "1                   1              1                1.0   \n",
       "2                   1              1                0.0   \n",
       "3                   1              1                0.0   \n",
       "4                   2              1                0.0   \n",
       "\n",
       "   improvement+AF8-charge  total+AF8-amount  stored+AF8-flag_Y  \n",
       "0                     0.3              9.13                  0  \n",
       "1                     0.3             21.36                  0  \n",
       "2                     0.3              8.80                  0  \n",
       "3                     0.3             14.80                  0  \n",
       "4                     0.3              4.80                  0  "
      ]
     },
     "execution_count": 6,
     "metadata": {},
     "output_type": "execute_result"
    }
   ],
   "source": [
    "duration=(a['droptime']-a['pickuptime']) #calculating the duration for which the chh-ola was booked \n",
    "a.drop(columns=['pickuptime', 'droptime',],inplace=True) #dropped the column pickup and droptime as it is not required\n",
    "a.head()"
   ]
  },
  {
   "cell_type": "code",
   "execution_count": 7,
   "metadata": {
    "scrolled": true
   },
   "outputs": [],
   "source": [
    "timeinsec=duration.dt.total_seconds() #converting the datetime to time in seconds\n",
    "a['timeinsec']=timeinsec\n",
    "a.loc[a['ID'] >=0, 'ID'] = 1.0 #making theta(0)th column by all values to 1"
   ]
  },
  {
   "cell_type": "code",
   "execution_count": 8,
   "metadata": {},
   "outputs": [],
   "source": [
    "convert_dict = {'vendor+AF8-id':float,'driver+AF8-tip':float,'ID':float,'mta+AF8-tax':float,\n",
    "                'toll+AF8-amount':float,\n",
    "               'extra+AF8-charges':float,'improvement+AF8-charge':float,'total+AF8-amount':float}\n",
    "a=a.astype(convert_dict) #converted all column values to float type for calculation"
   ]
  },
  {
   "cell_type": "code",
   "execution_count": 9,
   "metadata": {},
   "outputs": [
    {
     "name": "stderr",
     "output_type": "stream",
     "text": [
      "/home/rishabh007/anaconda3/lib/python3.7/site-packages/ipykernel_launcher.py:3: FutureWarning: Method .as_matrix will be removed in a future version. Use .values instead.\n",
      "  This is separate from the ipykernel package so we can avoid doing imports until\n"
     ]
    }
   ],
   "source": [
    "y= a['total+AF8-amount'] #separated the price values from the dataframe a\n",
    "a.drop(columns=['total+AF8-amount'],inplace=True) #dropped the y values from the dataframe a\n",
    "a=a.as_matrix(columns=None) #converted the dataframe to matrix "
   ]
  },
  {
   "cell_type": "code",
   "execution_count": 10,
   "metadata": {},
   "outputs": [
    {
     "data": {
      "text/plain": [
       "array([[1.00e+00, 1.00e+00, 1.00e+00, ..., 1.00e+00, 1.00e+00, 1.00e+00],\n",
       "       [1.00e+00, 2.00e+00, 2.00e+00, ..., 1.00e+00, 2.00e+00, 1.00e+00],\n",
       "       [1.70e+02, 1.51e+02, 6.80e+01, ..., 1.64e+02, 2.64e+02, 7.40e+01],\n",
       "       ...,\n",
       "       [3.00e-01, 3.00e-01, 3.00e-01, ..., 3.00e-01, 3.00e-01, 3.00e-01],\n",
       "       [0.00e+00, 0.00e+00, 0.00e+00, ..., 0.00e+00, 0.00e+00, 0.00e+00],\n",
       "       [3.21e+02, 9.90e+02, 3.77e+02, ..., 8.02e+02, 7.67e+02, 1.66e+02]])"
      ]
     },
     "execution_count": 10,
     "metadata": {},
     "output_type": "execute_result"
    }
   ],
   "source": [
    "#theta = inverse(transpose(a)*a)*transpose(a)*y \n",
    "#y is price vector\n",
    "#this is the normal equation to find theta vector\n",
    "at=np.transpose(a); #at is a transpose\n",
    "at"
   ]
  },
  {
   "cell_type": "code",
   "execution_count": 11,
   "metadata": {},
   "outputs": [
    {
     "data": {
      "text/plain": [
       "array([[1.04857300e+06, 1.61633900e+06, 1.72813689e+08, 1.70568813e+08,\n",
       "        1.98727497e+06, 5.21652000e+05, 2.99874437e+06, 1.66796100e+06,\n",
       "        3.62652080e+05, 1.38195900e+06, 1.09404800e+06, 3.58105350e+05,\n",
       "        3.14486700e+05, 7.16900000e+03, 1.01694591e+09],\n",
       "       [1.61633900e+06, 2.75187100e+06, 2.65783071e+08, 2.62488530e+08,\n",
       "        3.08181492e+06, 8.04387500e+05, 4.66248354e+06, 2.76362600e+06,\n",
       "        5.66329550e+05, 2.12502700e+06, 1.68615800e+06, 5.54087200e+05,\n",
       "        4.84757700e+05, 7.16900000e+03, 1.62493222e+09],\n",
       "       [1.72813689e+08, 2.65783071e+08, 3.30201090e+10, 2.86467577e+10,\n",
       "        3.19845214e+08, 8.59723405e+07, 4.70766997e+08, 2.74324240e+08,\n",
       "        5.49918304e+07, 2.27459224e+08, 1.80115990e+08, 5.86715791e+07,\n",
       "        5.18284017e+07, 1.15653200e+06, 1.63956241e+11],\n",
       "       [1.70568813e+08, 2.62488530e+08, 2.86467577e+10, 3.28153599e+10,\n",
       "        3.12509528e+08, 8.49780065e+07, 4.59537607e+08, 2.70859546e+08,\n",
       "        5.23833875e+07, 2.24590451e+08, 1.77967303e+08, 5.75474125e+07,\n",
       "        5.11538763e+07, 1.14396300e+06, 1.60555684e+11],\n",
       "       [1.98727497e+06, 3.08181492e+06, 3.19845214e+08, 3.12509528e+08,\n",
       "        1.11518126e+07, 9.69847275e+05, 1.15731302e+07, 3.15881728e+06,\n",
       "        2.76415901e+06, 1.98738719e+06, 2.33477166e+06, 7.66723530e+05,\n",
       "        5.96089020e+05, 1.94465900e+04, 2.87554394e+09],\n",
       "       [5.21652000e+05, 8.04387500e+05, 8.59723405e+07, 8.49780065e+07,\n",
       "        9.69847275e+05, 2.60826000e+05, 1.46929069e+06, 8.30188000e+05,\n",
       "        1.60100530e+05, 6.87489000e+05, 5.36150000e+05, 1.78715525e+05,\n",
       "        1.56492600e+05, 3.56050000e+03, 5.03760182e+08],\n",
       "       [2.99874437e+06, 4.66248354e+06, 4.70766997e+08, 4.59537607e+08,\n",
       "        1.15731302e+07, 1.46929069e+06, 2.30049990e+07, 4.85894922e+06,\n",
       "        4.88434751e+06, 3.85145084e+06, 3.59948463e+06, 1.25012993e+06,\n",
       "        8.99593857e+05, 3.49821000e+04, 5.17204638e+09],\n",
       "       [1.66796100e+06, 2.76362600e+06, 2.74324240e+08, 2.70859546e+08,\n",
       "        3.15881728e+06, 8.30188000e+05, 4.85894922e+06, 4.30132900e+06,\n",
       "        5.99309300e+05, 2.20442300e+06, 1.73620100e+06, 5.73451400e+05,\n",
       "        5.00286600e+05, 8.82300000e+03, 1.66846478e+09],\n",
       "       [3.62652080e+05, 5.66329550e+05, 5.49918304e+07, 5.23833875e+07,\n",
       "        2.76415901e+06, 1.60100530e+05, 4.88434751e+06, 5.99309300e+05,\n",
       "        4.92038272e+06, 4.45945380e+05, 5.82122860e+05, 1.72042435e+05,\n",
       "        1.08782808e+05, 1.05556700e+04, 9.15812267e+08],\n",
       "       [1.38195900e+06, 2.12502700e+06, 2.27459224e+08, 2.24590451e+08,\n",
       "        1.98738719e+06, 6.87489000e+05, 3.85145084e+06, 2.20442300e+06,\n",
       "        4.45945380e+05, 2.06832500e+06, 1.44170600e+06, 4.70100000e+05,\n",
       "        4.14459600e+05, 9.73800000e+03, 1.33017494e+09],\n",
       "       [1.09404800e+06, 1.68615800e+06, 1.80115990e+08, 1.77967303e+08,\n",
       "        2.33477166e+06, 5.36150000e+05, 3.59948463e+06, 1.73620100e+06,\n",
       "        5.82122860e+05, 1.44170600e+06, 1.47281200e+06, 3.82070250e+05,\n",
       "        3.27406800e+05, 7.97800000e+03, 1.11952765e+09],\n",
       "       [3.58105350e+05, 5.54087200e+05, 5.86715791e+07, 5.75474125e+07,\n",
       "        7.66723530e+05, 1.78715525e+05, 1.25012993e+06, 5.73451400e+05,\n",
       "        1.72042435e+05, 4.70100000e+05, 3.82070250e+05, 3.67701852e+05,\n",
       "        1.07431515e+05, 2.52650000e+03, 3.75608704e+08],\n",
       "       [3.14486700e+05, 4.84757700e+05, 5.18284017e+07, 5.11538763e+07,\n",
       "        5.96089020e+05, 1.56492600e+05, 8.99593857e+05, 5.00286600e+05,\n",
       "        1.08782808e+05, 4.14459600e+05, 3.27406800e+05, 1.07431515e+05,\n",
       "        9.43460100e+04, 2.15010000e+03, 3.04985335e+08],\n",
       "       [7.16900000e+03, 7.16900000e+03, 1.15653200e+06, 1.14396300e+06,\n",
       "        1.94465900e+04, 3.56050000e+03, 3.49821000e+04, 8.82300000e+03,\n",
       "        1.05556700e+04, 9.73800000e+03, 7.97800000e+03, 2.52650000e+03,\n",
       "        2.15010000e+03, 7.16900000e+03, 9.01703500e+06],\n",
       "       [1.01694591e+09, 1.62493222e+09, 1.63956241e+11, 1.60555684e+11,\n",
       "        2.87554394e+09, 5.03760182e+08, 5.17204638e+09, 1.66846478e+09,\n",
       "        9.15812267e+08, 1.33017494e+09, 1.11952765e+09, 3.75608704e+08,\n",
       "        3.04985335e+08, 9.01703500e+06, 1.10926886e+13]])"
      ]
     },
     "execution_count": 11,
     "metadata": {},
     "output_type": "execute_result"
    }
   ],
   "source": [
    "ata=at.dot(a) #transpose(a)*a\n",
    "ata"
   ]
  },
  {
   "cell_type": "code",
   "execution_count": 12,
   "metadata": {},
   "outputs": [],
   "source": [
    "atainv = np.linalg.inv(ata) #inverse(transpose(a)*a)"
   ]
  },
  {
   "cell_type": "code",
   "execution_count": 13,
   "metadata": {},
   "outputs": [],
   "source": [
    "ans=atainv.dot(at)  #inverse(transpose(a)*a)*transpose(a)*y "
   ]
  },
  {
   "cell_type": "code",
   "execution_count": 14,
   "metadata": {},
   "outputs": [
    {
     "data": {
      "text/plain": [
       "array([[ 3.78147288e-06, -1.61844146e-07,  4.57656745e-06, ...,\n",
       "         7.79022209e-06, -1.28625341e-05,  3.32352077e-06],\n",
       "       [-2.01923111e-06,  2.18614683e-06,  1.66302111e-06, ...,\n",
       "        -2.06584636e-06,  8.83943130e-07, -1.98027230e-06],\n",
       "       [-1.51108868e-09, -4.16984698e-09, -2.05706962e-08, ...,\n",
       "         6.62931693e-10,  2.01567687e-08, -1.92860878e-08],\n",
       "       ...,\n",
       "       [ 4.83856817e-06, -4.59102899e-06,  6.86779740e-06, ...,\n",
       "        -1.41777510e-06,  3.93742228e-06,  3.07053785e-06],\n",
       "       [-1.71592950e-06, -3.31736760e-09,  2.43459514e-07, ...,\n",
       "        -1.88450365e-06,  9.94842319e-08, -1.99435851e-06],\n",
       "       [-1.66341907e-11, -3.37993808e-11, -4.41797241e-11, ...,\n",
       "         1.29333841e-11, -1.24654669e-11, -3.43015646e-11]])"
      ]
     },
     "execution_count": 14,
     "metadata": {},
     "output_type": "execute_result"
    }
   ],
   "source": [
    "ans"
   ]
  },
  {
   "cell_type": "code",
   "execution_count": null,
   "metadata": {},
   "outputs": [],
   "source": []
  },
  {
   "cell_type": "code",
   "execution_count": 15,
   "metadata": {},
   "outputs": [
    {
     "data": {
      "text/plain": [
       "array([ 7.75263259e+00, -3.88020169e-03,  5.31206703e-04,  7.45182196e-04,\n",
       "        1.50859331e+00, -4.02810075e+01,  2.47484662e+00,  3.94025844e-03,\n",
       "        9.64667669e-01,  9.45928186e-01,  1.23357193e+00,  5.45091071e-01,\n",
       "        5.07182540e+01,  3.74812934e-01,  1.03731107e-04])"
      ]
     },
     "execution_count": 15,
     "metadata": {},
     "output_type": "execute_result"
    }
   ],
   "source": [
    "theta=ans.dot(y) #theta\n",
    "theta"
   ]
  },
  {
   "cell_type": "code",
   "execution_count": 16,
   "metadata": {},
   "outputs": [],
   "source": [
    "b=pd.read_csv('test.csv') #reading the test data"
   ]
  },
  {
   "cell_type": "code",
   "execution_count": 17,
   "metadata": {},
   "outputs": [],
   "source": [
    "b = pd.get_dummies(b, columns=['stored_flag'], drop_first=True)\n",
    "b.rename(columns={'pickup_time':'pickuptime'},inplace=True)\n",
    "b.rename(columns={'drop_time':'droptime'},inplace=True)\n"
   ]
  },
  {
   "cell_type": "code",
   "execution_count": 18,
   "metadata": {},
   "outputs": [],
   "source": [
    "b['pickuptime'] = pd.to_datetime(b.pickuptime)\n",
    "b['droptime'] = pd.to_datetime(b.droptime)\n"
   ]
  },
  {
   "cell_type": "code",
   "execution_count": 19,
   "metadata": {},
   "outputs": [],
   "source": [
    "duration1=(b['droptime']-b['pickuptime'])\n",
    "b.drop(columns=['pickuptime', 'droptime',],inplace=True)"
   ]
  },
  {
   "cell_type": "code",
   "execution_count": 20,
   "metadata": {},
   "outputs": [
    {
     "data": {
      "text/html": [
       "<div>\n",
       "<style scoped>\n",
       "    .dataframe tbody tr th:only-of-type {\n",
       "        vertical-align: middle;\n",
       "    }\n",
       "\n",
       "    .dataframe tbody tr th {\n",
       "        vertical-align: top;\n",
       "    }\n",
       "\n",
       "    .dataframe thead th {\n",
       "        text-align: right;\n",
       "    }\n",
       "</style>\n",
       "<table border=\"1\" class=\"dataframe\">\n",
       "  <thead>\n",
       "    <tr style=\"text-align: right;\">\n",
       "      <th></th>\n",
       "      <th>ID</th>\n",
       "      <th>vendor_id</th>\n",
       "      <th>pickup_loc</th>\n",
       "      <th>drop_loc</th>\n",
       "      <th>driver_tip</th>\n",
       "      <th>mta_tax</th>\n",
       "      <th>distance</th>\n",
       "      <th>num_passengers</th>\n",
       "      <th>toll_amount</th>\n",
       "      <th>payment_method</th>\n",
       "      <th>rate_code</th>\n",
       "      <th>extra_charges</th>\n",
       "      <th>improvement_charge</th>\n",
       "      <th>stored_flag_Y</th>\n",
       "    </tr>\n",
       "  </thead>\n",
       "  <tbody>\n",
       "    <tr>\n",
       "      <th>0</th>\n",
       "      <td>0</td>\n",
       "      <td>1</td>\n",
       "      <td>68.0</td>\n",
       "      <td>186.0</td>\n",
       "      <td>1.00</td>\n",
       "      <td>0.5</td>\n",
       "      <td>0.70</td>\n",
       "      <td>1.0</td>\n",
       "      <td>0.0</td>\n",
       "      <td>1.0</td>\n",
       "      <td>1.0</td>\n",
       "      <td>0.5</td>\n",
       "      <td>0.3</td>\n",
       "      <td>0</td>\n",
       "    </tr>\n",
       "    <tr>\n",
       "      <th>1</th>\n",
       "      <td>1</td>\n",
       "      <td>1</td>\n",
       "      <td>170.0</td>\n",
       "      <td>161.0</td>\n",
       "      <td>2.55</td>\n",
       "      <td>0.5</td>\n",
       "      <td>1.00</td>\n",
       "      <td>1.0</td>\n",
       "      <td>0.0</td>\n",
       "      <td>1.0</td>\n",
       "      <td>1.0</td>\n",
       "      <td>0.0</td>\n",
       "      <td>0.3</td>\n",
       "      <td>0</td>\n",
       "    </tr>\n",
       "    <tr>\n",
       "      <th>2</th>\n",
       "      <td>2</td>\n",
       "      <td>2</td>\n",
       "      <td>13.0</td>\n",
       "      <td>246.0</td>\n",
       "      <td>2.96</td>\n",
       "      <td>0.5</td>\n",
       "      <td>3.35</td>\n",
       "      <td>2.0</td>\n",
       "      <td>0.0</td>\n",
       "      <td>1.0</td>\n",
       "      <td>1.0</td>\n",
       "      <td>0.0</td>\n",
       "      <td>0.3</td>\n",
       "      <td>0</td>\n",
       "    </tr>\n",
       "    <tr>\n",
       "      <th>3</th>\n",
       "      <td>3</td>\n",
       "      <td>1</td>\n",
       "      <td>170.0</td>\n",
       "      <td>233.0</td>\n",
       "      <td>2.00</td>\n",
       "      <td>0.5</td>\n",
       "      <td>0.80</td>\n",
       "      <td>2.0</td>\n",
       "      <td>0.0</td>\n",
       "      <td>1.0</td>\n",
       "      <td>1.0</td>\n",
       "      <td>0.0</td>\n",
       "      <td>0.3</td>\n",
       "      <td>0</td>\n",
       "    </tr>\n",
       "    <tr>\n",
       "      <th>4</th>\n",
       "      <td>4</td>\n",
       "      <td>1</td>\n",
       "      <td>237.0</td>\n",
       "      <td>236.0</td>\n",
       "      <td>1.00</td>\n",
       "      <td>0.5</td>\n",
       "      <td>0.70</td>\n",
       "      <td>1.0</td>\n",
       "      <td>0.0</td>\n",
       "      <td>1.0</td>\n",
       "      <td>1.0</td>\n",
       "      <td>0.0</td>\n",
       "      <td>0.3</td>\n",
       "      <td>1</td>\n",
       "    </tr>\n",
       "  </tbody>\n",
       "</table>\n",
       "</div>"
      ],
      "text/plain": [
       "   ID  vendor_id  pickup_loc  drop_loc  driver_tip  mta_tax  distance  \\\n",
       "0   0          1        68.0     186.0        1.00      0.5      0.70   \n",
       "1   1          1       170.0     161.0        2.55      0.5      1.00   \n",
       "2   2          2        13.0     246.0        2.96      0.5      3.35   \n",
       "3   3          1       170.0     233.0        2.00      0.5      0.80   \n",
       "4   4          1       237.0     236.0        1.00      0.5      0.70   \n",
       "\n",
       "   num_passengers  toll_amount  payment_method  rate_code  extra_charges  \\\n",
       "0             1.0          0.0             1.0        1.0            0.5   \n",
       "1             1.0          0.0             1.0        1.0            0.0   \n",
       "2             2.0          0.0             1.0        1.0            0.0   \n",
       "3             2.0          0.0             1.0        1.0            0.0   \n",
       "4             1.0          0.0             1.0        1.0            0.0   \n",
       "\n",
       "   improvement_charge  stored_flag_Y  \n",
       "0                 0.3              0  \n",
       "1                 0.3              0  \n",
       "2                 0.3              0  \n",
       "3                 0.3              0  \n",
       "4                 0.3              1  "
      ]
     },
     "execution_count": 20,
     "metadata": {},
     "output_type": "execute_result"
    }
   ],
   "source": [
    "b.head()"
   ]
  },
  {
   "cell_type": "code",
   "execution_count": 21,
   "metadata": {},
   "outputs": [],
   "source": [
    "timeinsec=duration1.dt.total_seconds()\n",
    "b['timeinsec']=timeinsec\n",
    "b.loc[b['ID'] >=0, 'ID'] = 1.0"
   ]
  },
  {
   "cell_type": "code",
   "execution_count": 22,
   "metadata": {},
   "outputs": [],
   "source": [
    "convert_dict = {'vendor_id':float}\n",
    "b=b.astype(convert_dict)\n"
   ]
  },
  {
   "cell_type": "code",
   "execution_count": 23,
   "metadata": {},
   "outputs": [
    {
     "name": "stderr",
     "output_type": "stream",
     "text": [
      "/home/rishabh007/anaconda3/lib/python3.7/site-packages/ipykernel_launcher.py:1: FutureWarning: Method .as_matrix will be removed in a future version. Use .values instead.\n",
      "  \"\"\"Entry point for launching an IPython kernel.\n"
     ]
    }
   ],
   "source": [
    "b=b.as_matrix(columns=None)"
   ]
  },
  {
   "cell_type": "code",
   "execution_count": 24,
   "metadata": {},
   "outputs": [
    {
     "data": {
      "text/plain": [
       "(154235,)"
      ]
     },
     "execution_count": 24,
     "metadata": {},
     "output_type": "execute_result"
    }
   ],
   "source": [
    "h=b.dot(theta)\n",
    "h.shape"
   ]
  },
  {
   "cell_type": "code",
   "execution_count": 25,
   "metadata": {},
   "outputs": [
    {
     "name": "stdout",
     "output_type": "stream",
     "text": [
      "154235 15\n"
     ]
    }
   ],
   "source": [
    "r,c =b.shape\n",
    "print (r,c)"
   ]
  },
  {
   "cell_type": "code",
   "execution_count": 26,
   "metadata": {},
   "outputs": [
    {
     "data": {
      "text/plain": [
       "(154235,)"
      ]
     },
     "execution_count": 26,
     "metadata": {},
     "output_type": "execute_result"
    }
   ],
   "source": [
    "array = np.arange(r)\n",
    "array.shape\n"
   ]
  },
  {
   "cell_type": "code",
   "execution_count": null,
   "metadata": {},
   "outputs": [],
   "source": []
  },
  {
   "cell_type": "code",
   "execution_count": 27,
   "metadata": {},
   "outputs": [],
   "source": [
    "dataset = pd.DataFrame({'total_amount': h[:]})"
   ]
  },
  {
   "cell_type": "code",
   "execution_count": 28,
   "metadata": {},
   "outputs": [
    {
     "data": {
      "text/plain": [
       "(154235, 1)"
      ]
     },
     "execution_count": 28,
     "metadata": {},
     "output_type": "execute_result"
    }
   ],
   "source": [
    "dataset.shape\n"
   ]
  },
  {
   "cell_type": "code",
   "execution_count": 29,
   "metadata": {},
   "outputs": [],
   "source": [
    "dataset.to_csv('ans.csv') "
   ]
  },
  {
   "cell_type": "code",
   "execution_count": 30,
   "metadata": {},
   "outputs": [
    {
     "data": {
      "text/html": [
       "<div>\n",
       "<style scoped>\n",
       "    .dataframe tbody tr th:only-of-type {\n",
       "        vertical-align: middle;\n",
       "    }\n",
       "\n",
       "    .dataframe tbody tr th {\n",
       "        vertical-align: top;\n",
       "    }\n",
       "\n",
       "    .dataframe thead th {\n",
       "        text-align: right;\n",
       "    }\n",
       "</style>\n",
       "<table border=\"1\" class=\"dataframe\">\n",
       "  <thead>\n",
       "    <tr style=\"text-align: right;\">\n",
       "      <th></th>\n",
       "      <th>total_amount</th>\n",
       "    </tr>\n",
       "  </thead>\n",
       "  <tbody>\n",
       "    <tr>\n",
       "      <th>0</th>\n",
       "      <td>8.722082</td>\n",
       "    </tr>\n",
       "    <tr>\n",
       "      <th>1</th>\n",
       "      <td>11.654657</td>\n",
       "    </tr>\n",
       "    <tr>\n",
       "      <th>2</th>\n",
       "      <td>18.046146</td>\n",
       "    </tr>\n",
       "    <tr>\n",
       "      <th>3</th>\n",
       "      <td>10.308097</td>\n",
       "    </tr>\n",
       "    <tr>\n",
       "      <th>4</th>\n",
       "      <td>8.967564</td>\n",
       "    </tr>\n",
       "  </tbody>\n",
       "</table>\n",
       "</div>"
      ],
      "text/plain": [
       "   total_amount\n",
       "0      8.722082\n",
       "1     11.654657\n",
       "2     18.046146\n",
       "3     10.308097\n",
       "4      8.967564"
      ]
     },
     "execution_count": 30,
     "metadata": {},
     "output_type": "execute_result"
    }
   ],
   "source": [
    "dataset.head()"
   ]
  },
  {
   "cell_type": "code",
   "execution_count": null,
   "metadata": {},
   "outputs": [],
   "source": []
  }
 ],
 "metadata": {
  "kernelspec": {
   "display_name": "Python 3",
   "language": "python",
   "name": "python3"
  },
  "language_info": {
   "codemirror_mode": {
    "name": "ipython",
    "version": 3
   },
   "file_extension": ".py",
   "mimetype": "text/x-python",
   "name": "python",
   "nbconvert_exporter": "python",
   "pygments_lexer": "ipython3",
   "version": "3.7.3"
  }
 },
 "nbformat": 4,
 "nbformat_minor": 2
}
