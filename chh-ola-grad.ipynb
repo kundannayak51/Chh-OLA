{
 "cells": [
  {
   "cell_type": "code",
   "execution_count": 1,
   "metadata": {},
   "outputs": [],
   "source": [
    "import pandas as pd\n",
    "import matplotlib.pyplot as plt\n",
    "import seaborn as sns\n",
    "import re\n",
    "import numpy as np\n",
    "from sklearn import tree\n",
    "from sklearn.model_selection import train_test_split\n",
    "from sklearn.linear_model import LogisticRegression\n",
    "from sklearn.model_selection import GridSearchCV"
   ]
  },
  {
   "cell_type": "code",
   "execution_count": 2,
   "metadata": {
    "scrolled": false
   },
   "outputs": [],
   "source": [
    "a=pd.read_csv('train.csv')"
   ]
  },
  {
   "cell_type": "code",
   "execution_count": 3,
   "metadata": {},
   "outputs": [],
   "source": [
    "#converting the values of \n",
    "a = pd.get_dummies(a, columns=['stored+AF8-flag'], drop_first=True)\n",
    "a.rename(columns={'pickup+AF8-time':'pickuptime'},inplace=True)\n",
    "a.rename(columns={'drop+AF8-time':'droptime'},inplace=True)"
   ]
  },
  {
   "cell_type": "code",
   "execution_count": 4,
   "metadata": {},
   "outputs": [],
   "source": [
    "a['pickuptime'] = pd.to_datetime(a.pickuptime)\n",
    "\n"
   ]
  },
  {
   "cell_type": "code",
   "execution_count": 5,
   "metadata": {},
   "outputs": [],
   "source": [
    "a['droptime'] = pd.to_datetime(a.droptime)\n",
    "\n",
    "\n"
   ]
  },
  {
   "cell_type": "code",
   "execution_count": 6,
   "metadata": {},
   "outputs": [],
   "source": [
    "duration=(a['droptime']-a['pickuptime'])\n",
    "a.drop(columns=['pickuptime', 'droptime',],inplace=True)\n"
   ]
  },
  {
   "cell_type": "code",
   "execution_count": 7,
   "metadata": {
    "scrolled": true
   },
   "outputs": [],
   "source": [
    "timeinsec=duration.dt.total_seconds()\n",
    "a['timeinsec']=timeinsec\n",
    "a.loc[a['ID'] >=0, 'ID'] = 1.0"
   ]
  },
  {
   "cell_type": "code",
   "execution_count": 8,
   "metadata": {},
   "outputs": [],
   "source": [
    "convert_dict = {'vendor+AF8-id':float,'driver+AF8-tip':float,'ID':float,'mta+AF8-tax':float,\n",
    "                'toll+AF8-amount':float,\n",
    "               'extra+AF8-charges':float,'improvement+AF8-charge':float,'total+AF8-amount':float}\n",
    "a=a.astype(convert_dict)"
   ]
  },
  {
   "cell_type": "code",
   "execution_count": 9,
   "metadata": {},
   "outputs": [],
   "source": [
    "a.drop(columns=['ID'],inplace=True)"
   ]
  },
  {
   "cell_type": "code",
   "execution_count": 10,
   "metadata": {},
   "outputs": [
    {
     "data": {
      "text/plain": [
       "(1048573, 15)"
      ]
     },
     "execution_count": 10,
     "metadata": {},
     "output_type": "execute_result"
    }
   ],
   "source": [
    "a = (a - a.mean())/a.std()\n",
    "a.shape"
   ]
  },
  {
   "cell_type": "code",
   "execution_count": 11,
   "metadata": {},
   "outputs": [
    {
     "data": {
      "text/html": [
       "<div>\n",
       "<style scoped>\n",
       "    .dataframe tbody tr th:only-of-type {\n",
       "        vertical-align: middle;\n",
       "    }\n",
       "\n",
       "    .dataframe tbody tr th {\n",
       "        vertical-align: top;\n",
       "    }\n",
       "\n",
       "    .dataframe thead th {\n",
       "        text-align: right;\n",
       "    }\n",
       "</style>\n",
       "<table border=\"1\" class=\"dataframe\">\n",
       "  <thead>\n",
       "    <tr style=\"text-align: right;\">\n",
       "      <th></th>\n",
       "      <th>vendor+AF8-id</th>\n",
       "      <th>pickup+AF8-loc</th>\n",
       "      <th>drop+AF8-loc</th>\n",
       "      <th>driver+AF8-tip</th>\n",
       "      <th>mta+AF8-tax</th>\n",
       "      <th>distance</th>\n",
       "      <th>num+AF8-passengers</th>\n",
       "      <th>toll+AF8-amount</th>\n",
       "      <th>payment+AF8-method</th>\n",
       "      <th>rate+AF8-code</th>\n",
       "      <th>extra+AF8-charges</th>\n",
       "      <th>improvement+AF8-charge</th>\n",
       "      <th>stored+AF8-flag_Y</th>\n",
       "      <th>timeinsec</th>\n",
       "    </tr>\n",
       "  </thead>\n",
       "  <tbody>\n",
       "    <tr>\n",
       "      <th>0</th>\n",
       "      <td>-1.086674</td>\n",
       "      <td>0.078908</td>\n",
       "      <td>1.011530</td>\n",
       "      <td>-0.024574</td>\n",
       "      <td>0.071065</td>\n",
       "      <td>-0.582237</td>\n",
       "      <td>-0.471162</td>\n",
       "      <td>-0.161733</td>\n",
       "      <td>-0.655111</td>\n",
       "      <td>-0.077153</td>\n",
       "      <td>1.361144</td>\n",
       "      <td>0.01646</td>\n",
       "      <td>-0.08297</td>\n",
       "      <td>-0.208995</td>\n",
       "    </tr>\n",
       "    <tr>\n",
       "      <th>1</th>\n",
       "      <td>0.920239</td>\n",
       "      <td>-0.209878</td>\n",
       "      <td>1.155351</td>\n",
       "      <td>0.627288</td>\n",
       "      <td>0.071065</td>\n",
       "      <td>0.479888</td>\n",
       "      <td>-0.471162</td>\n",
       "      <td>-0.161733</td>\n",
       "      <td>-0.655111</td>\n",
       "      <td>-0.077153</td>\n",
       "      <td>1.361144</td>\n",
       "      <td>0.01646</td>\n",
       "      <td>-0.08297</td>\n",
       "      <td>0.006494</td>\n",
       "    </tr>\n",
       "    <tr>\n",
       "      <th>2</th>\n",
       "      <td>0.920239</td>\n",
       "      <td>-1.471413</td>\n",
       "      <td>-1.045114</td>\n",
       "      <td>-0.148918</td>\n",
       "      <td>0.071065</td>\n",
       "      <td>-0.423188</td>\n",
       "      <td>0.326476</td>\n",
       "      <td>-0.161733</td>\n",
       "      <td>-0.655111</td>\n",
       "      <td>-0.077153</td>\n",
       "      <td>-0.705946</td>\n",
       "      <td>0.01646</td>\n",
       "      <td>-0.08297</td>\n",
       "      <td>-0.190957</td>\n",
       "    </tr>\n",
       "    <tr>\n",
       "      <th>3</th>\n",
       "      <td>0.920239</td>\n",
       "      <td>-0.346671</td>\n",
       "      <td>1.025912</td>\n",
       "      <td>-0.148918</td>\n",
       "      <td>0.071065</td>\n",
       "      <td>-0.032304</td>\n",
       "      <td>-0.471162</td>\n",
       "      <td>-0.161733</td>\n",
       "      <td>-0.655111</td>\n",
       "      <td>-0.077153</td>\n",
       "      <td>-0.705946</td>\n",
       "      <td>0.01646</td>\n",
       "      <td>-0.08297</td>\n",
       "      <td>-0.000592</td>\n",
       "    </tr>\n",
       "    <tr>\n",
       "      <th>4</th>\n",
       "      <td>0.920239</td>\n",
       "      <td>1.112454</td>\n",
       "      <td>1.083441</td>\n",
       "      <td>-0.714116</td>\n",
       "      <td>0.071065</td>\n",
       "      <td>-0.649631</td>\n",
       "      <td>3.517030</td>\n",
       "      <td>-0.161733</td>\n",
       "      <td>1.405358</td>\n",
       "      <td>-0.077153</td>\n",
       "      <td>-0.705946</td>\n",
       "      <td>0.01646</td>\n",
       "      <td>-0.08297</td>\n",
       "      <td>-0.260210</td>\n",
       "    </tr>\n",
       "  </tbody>\n",
       "</table>\n",
       "</div>"
      ],
      "text/plain": [
       "   vendor+AF8-id  pickup+AF8-loc  drop+AF8-loc  driver+AF8-tip  mta+AF8-tax  \\\n",
       "0      -1.086674        0.078908      1.011530       -0.024574     0.071065   \n",
       "1       0.920239       -0.209878      1.155351        0.627288     0.071065   \n",
       "2       0.920239       -1.471413     -1.045114       -0.148918     0.071065   \n",
       "3       0.920239       -0.346671      1.025912       -0.148918     0.071065   \n",
       "4       0.920239        1.112454      1.083441       -0.714116     0.071065   \n",
       "\n",
       "   distance  num+AF8-passengers  toll+AF8-amount  payment+AF8-method  \\\n",
       "0 -0.582237           -0.471162        -0.161733           -0.655111   \n",
       "1  0.479888           -0.471162        -0.161733           -0.655111   \n",
       "2 -0.423188            0.326476        -0.161733           -0.655111   \n",
       "3 -0.032304           -0.471162        -0.161733           -0.655111   \n",
       "4 -0.649631            3.517030        -0.161733            1.405358   \n",
       "\n",
       "   rate+AF8-code  extra+AF8-charges  improvement+AF8-charge  \\\n",
       "0      -0.077153           1.361144                 0.01646   \n",
       "1      -0.077153           1.361144                 0.01646   \n",
       "2      -0.077153          -0.705946                 0.01646   \n",
       "3      -0.077153          -0.705946                 0.01646   \n",
       "4      -0.077153          -0.705946                 0.01646   \n",
       "\n",
       "   stored+AF8-flag_Y  timeinsec  \n",
       "0           -0.08297  -0.208995  \n",
       "1           -0.08297   0.006494  \n",
       "2           -0.08297  -0.190957  \n",
       "3           -0.08297  -0.000592  \n",
       "4           -0.08297  -0.260210  "
      ]
     },
     "execution_count": 11,
     "metadata": {},
     "output_type": "execute_result"
    }
   ],
   "source": [
    "\n",
    "y= a['total+AF8-amount']\n",
    "a.drop(columns=['total+AF8-amount'],inplace=True)\n",
    "a.head()"
   ]
  },
  {
   "cell_type": "code",
   "execution_count": 12,
   "metadata": {},
   "outputs": [
    {
     "data": {
      "text/plain": [
       "(1048573, 14)"
      ]
     },
     "execution_count": 12,
     "metadata": {},
     "output_type": "execute_result"
    }
   ],
   "source": [
    "a.shape\n"
   ]
  },
  {
   "cell_type": "code",
   "execution_count": 13,
   "metadata": {},
   "outputs": [
    {
     "data": {
      "text/plain": [
       "(1048573, 15)"
      ]
     },
     "execution_count": 13,
     "metadata": {},
     "output_type": "execute_result"
    }
   ],
   "source": [
    "a['amount']=y\n",
    "a.head()\n",
    "a.shape"
   ]
  },
  {
   "cell_type": "code",
   "execution_count": 14,
   "metadata": {},
   "outputs": [],
   "source": [
    "#setting the matrixes\n",
    "X = a.iloc[:,0:14]\n",
    "ones = np.ones([X.shape[0],1])\n",
    "X = np.concatenate((ones,X),axis=1)\n",
    "\n",
    "y = a.iloc[:,14:15].values #.values converts it from pandas.core.frame.DataFrame to numpy.ndarray\n",
    "\n",
    "theta = np.zeros([1,14])\n",
    "\n",
    "#set hyper parameters\n",
    "alpha = 0.008\n",
    "iters = 1000"
   ]
  },
  {
   "cell_type": "code",
   "execution_count": 15,
   "metadata": {},
   "outputs": [
    {
     "data": {
      "text/plain": [
       "array([0., 0., 0., 0., 0., 0., 0., 0., 0., 0., 0., 0., 0., 0.])"
      ]
     },
     "execution_count": 15,
     "metadata": {},
     "output_type": "execute_result"
    }
   ],
   "source": [
    "X = np.delete(X, 0, axis=1)\n",
    "theta[0]"
   ]
  },
  {
   "cell_type": "code",
   "execution_count": 16,
   "metadata": {},
   "outputs": [
    {
     "data": {
      "text/plain": [
       "array([[-1.08667354,  0.07890753,  1.01153006, ...,  0.01645957,\n",
       "        -0.08296969, -0.20899544],\n",
       "       [ 0.9202387 , -0.20987763,  1.15535132, ...,  0.01645957,\n",
       "        -0.08296969,  0.00649434],\n",
       "       [ 0.9202387 , -1.47141283, -1.04511409, ...,  0.01645957,\n",
       "        -0.08296969, -0.19095743],\n",
       "       ...,\n",
       "       [-1.08667354, -0.01228778, -1.04511409, ...,  0.01645957,\n",
       "        -0.08296969, -0.05406183],\n",
       "       [ 0.9202387 ,  1.50763414,  1.45737599, ...,  0.01645957,\n",
       "        -0.08296969, -0.06533559],\n",
       "       [-1.08667354, -1.38021752, -1.27522812, ...,  0.01645957,\n",
       "        -0.08296969, -0.25892207]])"
      ]
     },
     "execution_count": 16,
     "metadata": {},
     "output_type": "execute_result"
    }
   ],
   "source": [
    "X"
   ]
  },
  {
   "cell_type": "code",
   "execution_count": 17,
   "metadata": {},
   "outputs": [],
   "source": [
    "#computecost\n",
    "def computeCost(X,y,theta):\n",
    "    tobesummed = np.power(((X @ theta.T)-y),2)\n",
    "    return np.sum(tobesummed)/(2 * len(X))"
   ]
  },
  {
   "cell_type": "code",
   "execution_count": 18,
   "metadata": {},
   "outputs": [
    {
     "name": "stdout",
     "output_type": "stream",
     "text": [
      "[[-8.72885000e-05  1.77692143e-03  2.70212573e-03  2.75189513e-01\n",
      "  -9.18702949e-02  5.97546461e-01  4.62742459e-04  1.40378792e-01\n",
      "   3.56208110e-02  4.77927964e-02  1.81514615e-02  1.67137286e-02\n",
      "   2.11703791e-03  2.25298966e-02]]\n",
      "0.09286337120017706\n"
     ]
    }
   ],
   "source": [
    "#gradient descent\n",
    "def gradientDescent(X,y,theta,iters,alpha):\n",
    "    cost = np.zeros(iters)\n",
    "    for i in range(iters):\n",
    "        theta = theta - (alpha/len(X)) * np.sum(X * (X @ theta.T - y), axis=0)\n",
    "        cost[i] = computeCost(X, y, theta)\n",
    "    \n",
    "    return theta,cost\n",
    "\n",
    "#running the gd and cost function\n",
    "g,cost = gradientDescent(X,y,theta,iters,alpha)\n",
    "print(g)\n",
    "\n",
    "finalCost = computeCost(X,y,g)\n",
    "print(finalCost)"
   ]
  },
  {
   "cell_type": "code",
   "execution_count": 19,
   "metadata": {},
   "outputs": [
    {
     "data": {
      "text/plain": [
       "Text(0.5, 1.0, 'Error vs. Training Epoch')"
      ]
     },
     "execution_count": 19,
     "metadata": {},
     "output_type": "execute_result"
    },
    {
     "data": {
      "image/png": "[encoded data removed]",
      "text/plain": [
       "<Figure size 432x288 with 1 Axes>"
      ]
     },
     "metadata": {
      "needs_background": "light"
     },
     "output_type": "display_data"
    }
   ],
   "source": [
    "#plot the cost\n",
    "fig, ax = plt.subplots()  \n",
    "ax.plot(np.arange(iters), cost, 'r')  \n",
    "ax.set_xlabel('Iterations')  \n",
    "ax.set_ylabel('Cost')  \n",
    "ax.set_title('Error vs. Training Epoch')  "
   ]
  },
  {
   "cell_type": "code",
   "execution_count": 20,
   "metadata": {},
   "outputs": [],
   "source": [
    "b=pd.read_csv('test.csv')\n",
    "#htani"
   ]
  },
  {
   "cell_type": "code",
   "execution_count": 21,
   "metadata": {},
   "outputs": [],
   "source": [
    "b = pd.get_dummies(b, columns=['stored_flag'], drop_first=True)\n",
    "b.rename(columns={'pickup_time':'pickuptime'},inplace=True)\n",
    "b.rename(columns={'drop_time':'droptime'},inplace=True)"
   ]
  },
  {
   "cell_type": "code",
   "execution_count": 22,
   "metadata": {},
   "outputs": [],
   "source": [
    "b['pickuptime'] = pd.to_datetime(b.pickuptime)\n",
    "b['droptime'] = pd.to_datetime(b.droptime)"
   ]
  },
  {
   "cell_type": "code",
   "execution_count": 23,
   "metadata": {},
   "outputs": [],
   "source": [
    "duration1=(b['droptime']-b['pickuptime'])\n",
    "b.drop(columns=['pickuptime', 'droptime','ID'],inplace=True)\n",
    "timeinsec=duration1.dt.total_seconds()\n",
    "b['timeinsec']=timeinsec\n"
   ]
  },
  {
   "cell_type": "code",
   "execution_count": 24,
   "metadata": {},
   "outputs": [],
   "source": [
    "convert_dict = {'vendor_id':float}\n",
    "b=b.astype(convert_dict)"
   ]
  },
  {
   "cell_type": "code",
   "execution_count": 25,
   "metadata": {},
   "outputs": [
    {
     "name": "stderr",
     "output_type": "stream",
     "text": [
      "/home/rishabh007/anaconda3/lib/python3.7/site-packages/ipykernel_launcher.py:1: FutureWarning: Method .as_matrix will be removed in a future version. Use .values instead.\n",
      "  \"\"\"Entry point for launching an IPython kernel.\n"
     ]
    }
   ],
   "source": [
    "b=b.as_matrix(columns=None)\n",
    "r,c=b.shape"
   ]
  },
  {
   "cell_type": "code",
   "execution_count": 26,
   "metadata": {},
   "outputs": [
    {
     "name": "stdout",
     "output_type": "stream",
     "text": [
      "154235 14\n",
      "(1, 14)\n",
      "(14, 1)\n"
     ]
    }
   ],
   "source": [
    "print(r,c)\n",
    "print(g.shape)\n",
    "g=g.transpose()\n",
    "print(g.shape)"
   ]
  },
  {
   "cell_type": "code",
   "execution_count": 27,
   "metadata": {},
   "outputs": [
    {
     "data": {
      "text/plain": [
       "(154235, 1)"
      ]
     },
     "execution_count": 27,
     "metadata": {},
     "output_type": "execute_result"
    }
   ],
   "source": [
    "h=b.dot(g)\n",
    "h.shape"
   ]
  },
  {
   "cell_type": "code",
   "execution_count": 28,
   "metadata": {},
   "outputs": [
    {
     "data": {
      "text/plain": [
       "array([7.15902528])"
      ]
     },
     "execution_count": 28,
     "metadata": {},
     "output_type": "execute_result"
    }
   ],
   "source": [
    "h[0]"
   ]
  },
  {
   "cell_type": "code",
   "execution_count": 29,
   "metadata": {},
   "outputs": [
    {
     "data": {
      "text/plain": [
       "array([27.15504161])"
      ]
     },
     "execution_count": 29,
     "metadata": {},
     "output_type": "execute_result"
    }
   ],
   "source": [
    "h[1]"
   ]
  },
  {
   "cell_type": "code",
   "execution_count": 30,
   "metadata": {},
   "outputs": [
    {
     "data": {
      "text/plain": [
       "array([23.64407581])"
      ]
     },
     "execution_count": 30,
     "metadata": {},
     "output_type": "execute_result"
    }
   ],
   "source": [
    "h[2]"
   ]
  },
  {
   "cell_type": "code",
   "execution_count": 32,
   "metadata": {},
   "outputs": [
    {
     "name": "stdout",
     "output_type": "stream",
     "text": [
      "[[ 7.15902528]\n",
      " [27.15504161]\n",
      " [23.64407581]\n",
      " [ 9.82129305]\n",
      " [11.10213648]\n",
      " [ 8.64602824]\n",
      " [17.33543397]\n",
      " [24.83888333]\n",
      " [13.25186241]\n",
      " [20.45502333]]\n"
     ]
    }
   ],
   "source": [
    "print(h[0:10])"
   ]
  },
  {
   "cell_type": "code",
   "execution_count": 33,
   "metadata": {},
   "outputs": [
    {
     "name": "stdout",
     "output_type": "stream",
     "text": [
      "154235 14\n"
     ]
    }
   ],
   "source": [
    "r,c =b.shape\n",
    "print (r,c)"
   ]
  },
  {
   "cell_type": "code",
   "execution_count": 34,
   "metadata": {},
   "outputs": [
    {
     "data": {
      "text/plain": [
       "(154235,)"
      ]
     },
     "execution_count": 34,
     "metadata": {},
     "output_type": "execute_result"
    }
   ],
   "source": [
    "array = np.arange(r)\n",
    "array.shape\n"
   ]
  },
  {
   "cell_type": "code",
   "execution_count": 35,
   "metadata": {},
   "outputs": [
    {
     "ename": "ValueError",
     "evalue": "If using all scalar values, you must pass an index",
     "output_type": "error",
     "traceback": [
      "\u001b[0;31m---------------------------------------------------------------------------\u001b[0m",
      "\u001b[0;31mValueError\u001b[0m                                Traceback (most recent call last)",
      "\u001b[0;32m<ipython-input-35-67cc76ed588c>\u001b[0m in \u001b[0;36m<module>\u001b[0;34m\u001b[0m\n\u001b[0;32m----> 1\u001b[0;31m \u001b[0mdataset\u001b[0m \u001b[0;34m=\u001b[0m \u001b[0mpd\u001b[0m\u001b[0;34m.\u001b[0m\u001b[0mDataFrame\u001b[0m\u001b[0;34m(\u001b[0m\u001b[0;34m{\u001b[0m\u001b[0;34m'total_amount'\u001b[0m\u001b[0;34m:\u001b[0m \u001b[0mh\u001b[0m\u001b[0;34m[\u001b[0m\u001b[0;34m:\u001b[0m\u001b[0;34m]\u001b[0m\u001b[0;34m}\u001b[0m\u001b[0;34m)\u001b[0m\u001b[0;34m\u001b[0m\u001b[0;34m\u001b[0m\u001b[0m\n\u001b[0m",
      "\u001b[0;32m~/anaconda3/lib/python3.7/site-packages/pandas/core/frame.py\u001b[0m in \u001b[0;36m__init__\u001b[0;34m(self, data, index, columns, dtype, copy)\u001b[0m\n\u001b[1;32m    390\u001b[0m                                  dtype=dtype, copy=copy)\n\u001b[1;32m    391\u001b[0m         \u001b[0;32melif\u001b[0m \u001b[0misinstance\u001b[0m\u001b[0;34m(\u001b[0m\u001b[0mdata\u001b[0m\u001b[0;34m,\u001b[0m \u001b[0mdict\u001b[0m\u001b[0;34m)\u001b[0m\u001b[0;34m:\u001b[0m\u001b[0;34m\u001b[0m\u001b[0;34m\u001b[0m\u001b[0m\n\u001b[0;32m--> 392\u001b[0;31m             \u001b[0mmgr\u001b[0m \u001b[0;34m=\u001b[0m \u001b[0minit_dict\u001b[0m\u001b[0;34m(\u001b[0m\u001b[0mdata\u001b[0m\u001b[0;34m,\u001b[0m \u001b[0mindex\u001b[0m\u001b[0;34m,\u001b[0m \u001b[0mcolumns\u001b[0m\u001b[0;34m,\u001b[0m \u001b[0mdtype\u001b[0m\u001b[0;34m=\u001b[0m\u001b[0mdtype\u001b[0m\u001b[0;34m)\u001b[0m\u001b[0;34m\u001b[0m\u001b[0;34m\u001b[0m\u001b[0m\n\u001b[0m\u001b[1;32m    393\u001b[0m         \u001b[0;32melif\u001b[0m \u001b[0misinstance\u001b[0m\u001b[0;34m(\u001b[0m\u001b[0mdata\u001b[0m\u001b[0;34m,\u001b[0m \u001b[0mma\u001b[0m\u001b[0;34m.\u001b[0m\u001b[0mMaskedArray\u001b[0m\u001b[0;34m)\u001b[0m\u001b[0;34m:\u001b[0m\u001b[0;34m\u001b[0m\u001b[0;34m\u001b[0m\u001b[0m\n\u001b[1;32m    394\u001b[0m             \u001b[0;32mimport\u001b[0m \u001b[0mnumpy\u001b[0m\u001b[0;34m.\u001b[0m\u001b[0mma\u001b[0m\u001b[0;34m.\u001b[0m\u001b[0mmrecords\u001b[0m \u001b[0;32mas\u001b[0m \u001b[0mmrecords\u001b[0m\u001b[0;34m\u001b[0m\u001b[0;34m\u001b[0m\u001b[0m\n",
      "\u001b[0;32m~/anaconda3/lib/python3.7/site-packages/pandas/core/internals/construction.py\u001b[0m in \u001b[0;36minit_dict\u001b[0;34m(data, index, columns, dtype)\u001b[0m\n\u001b[1;32m    210\u001b[0m         \u001b[0marrays\u001b[0m \u001b[0;34m=\u001b[0m \u001b[0;34m[\u001b[0m\u001b[0mdata\u001b[0m\u001b[0;34m[\u001b[0m\u001b[0mk\u001b[0m\u001b[0;34m]\u001b[0m \u001b[0;32mfor\u001b[0m \u001b[0mk\u001b[0m \u001b[0;32min\u001b[0m \u001b[0mkeys\u001b[0m\u001b[0;34m]\u001b[0m\u001b[0;34m\u001b[0m\u001b[0;34m\u001b[0m\u001b[0m\n\u001b[1;32m    211\u001b[0m \u001b[0;34m\u001b[0m\u001b[0m\n\u001b[0;32m--> 212\u001b[0;31m     \u001b[0;32mreturn\u001b[0m \u001b[0marrays_to_mgr\u001b[0m\u001b[0;34m(\u001b[0m\u001b[0marrays\u001b[0m\u001b[0;34m,\u001b[0m \u001b[0mdata_names\u001b[0m\u001b[0;34m,\u001b[0m \u001b[0mindex\u001b[0m\u001b[0;34m,\u001b[0m \u001b[0mcolumns\u001b[0m\u001b[0;34m,\u001b[0m \u001b[0mdtype\u001b[0m\u001b[0;34m=\u001b[0m\u001b[0mdtype\u001b[0m\u001b[0;34m)\u001b[0m\u001b[0;34m\u001b[0m\u001b[0;34m\u001b[0m\u001b[0m\n\u001b[0m\u001b[1;32m    213\u001b[0m \u001b[0;34m\u001b[0m\u001b[0m\n\u001b[1;32m    214\u001b[0m \u001b[0;34m\u001b[0m\u001b[0m\n",
      "\u001b[0;32m~/anaconda3/lib/python3.7/site-packages/pandas/core/internals/construction.py\u001b[0m in \u001b[0;36marrays_to_mgr\u001b[0;34m(arrays, arr_names, index, columns, dtype)\u001b[0m\n\u001b[1;32m     49\u001b[0m     \u001b[0;31m# figure out the index, if necessary\u001b[0m\u001b[0;34m\u001b[0m\u001b[0;34m\u001b[0m\u001b[0;34m\u001b[0m\u001b[0m\n\u001b[1;32m     50\u001b[0m     \u001b[0;32mif\u001b[0m \u001b[0mindex\u001b[0m \u001b[0;32mis\u001b[0m \u001b[0;32mNone\u001b[0m\u001b[0;34m:\u001b[0m\u001b[0;34m\u001b[0m\u001b[0;34m\u001b[0m\u001b[0m\n\u001b[0;32m---> 51\u001b[0;31m         \u001b[0mindex\u001b[0m \u001b[0;34m=\u001b[0m \u001b[0mextract_index\u001b[0m\u001b[0;34m(\u001b[0m\u001b[0marrays\u001b[0m\u001b[0;34m)\u001b[0m\u001b[0;34m\u001b[0m\u001b[0;34m\u001b[0m\u001b[0m\n\u001b[0m\u001b[1;32m     52\u001b[0m     \u001b[0;32melse\u001b[0m\u001b[0;34m:\u001b[0m\u001b[0;34m\u001b[0m\u001b[0;34m\u001b[0m\u001b[0m\n\u001b[1;32m     53\u001b[0m         \u001b[0mindex\u001b[0m \u001b[0;34m=\u001b[0m \u001b[0mensure_index\u001b[0m\u001b[0;34m(\u001b[0m\u001b[0mindex\u001b[0m\u001b[0;34m)\u001b[0m\u001b[0;34m\u001b[0m\u001b[0;34m\u001b[0m\u001b[0m\n",
      "\u001b[0;32m~/anaconda3/lib/python3.7/site-packages/pandas/core/internals/construction.py\u001b[0m in \u001b[0;36mextract_index\u001b[0;34m(data)\u001b[0m\n\u001b[1;32m    306\u001b[0m \u001b[0;34m\u001b[0m\u001b[0m\n\u001b[1;32m    307\u001b[0m         \u001b[0;32mif\u001b[0m \u001b[0;32mnot\u001b[0m \u001b[0mindexes\u001b[0m \u001b[0;32mand\u001b[0m \u001b[0;32mnot\u001b[0m \u001b[0mraw_lengths\u001b[0m\u001b[0;34m:\u001b[0m\u001b[0;34m\u001b[0m\u001b[0;34m\u001b[0m\u001b[0m\n\u001b[0;32m--> 308\u001b[0;31m             raise ValueError('If using all scalar values, you must pass'\n\u001b[0m\u001b[1;32m    309\u001b[0m                              ' an index')\n\u001b[1;32m    310\u001b[0m \u001b[0;34m\u001b[0m\u001b[0m\n",
      "\u001b[0;31mValueError\u001b[0m: If using all scalar values, you must pass an index"
     ]
    }
   ],
   "source": []
  },
  {
   "cell_type": "code",
   "execution_count": null,
   "metadata": {},
   "outputs": [],
   "source": []
  }
 ],
 "metadata": {
  "kernelspec": {
   "display_name": "Python 3",
   "language": "python",
   "name": "python3"
  },
  "language_info": {
   "codemirror_mode": {
    "name": "ipython",
    "version": 3
   },
   "file_extension": ".py",
   "mimetype": "text/x-python",
   "name": "python",
   "nbconvert_exporter": "python",
   "pygments_lexer": "ipython3",
   "version": "3.7.3"
  }
 },
 "nbformat": 4,
 "nbformat_minor": 2
}
